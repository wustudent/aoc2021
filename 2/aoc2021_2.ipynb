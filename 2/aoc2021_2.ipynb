{
 "cells": [
  {
   "cell_type": "code",
   "execution_count": 5,
   "metadata": {},
   "outputs": [
    {
     "name": "stdout",
     "output_type": "stream",
     "text": [
      "1580000\n"
     ]
    }
   ],
   "source": [
    "with open('1.txt') as f:\n",
    "    arr=[]\n",
    "    for lines in f:\n",
    "        arr.append(lines.strip().split())\n",
    "    h=0\n",
    "    d=0\n",
    "    for dir, cnt in arr:\n",
    "        cnt=int(cnt)\n",
    "        if dir=='forward':\n",
    "            h+=cnt\n",
    "        elif dir=='down':\n",
    "            d+=cnt\n",
    "        elif dir=='up':\n",
    "            d-=cnt\n",
    "    print(h*d) \n",
    "        "
   ]
  },
  {
   "cell_type": "code",
   "execution_count": 6,
   "metadata": {},
   "outputs": [
    {
     "name": "stdout",
     "output_type": "stream",
     "text": [
      "1251263225\n"
     ]
    }
   ],
   "source": [
    "with open('1.txt') as f:\n",
    "    arr=[]\n",
    "    for lines in f:\n",
    "        arr.append(lines.strip().split())\n",
    "    h=0\n",
    "    d=0\n",
    "    aim=0\n",
    "    for dir, cnt in arr:\n",
    "        cnt=int(cnt)\n",
    "        if dir=='forward':\n",
    "            h+=cnt\n",
    "            d+=(aim*cnt)\n",
    "        elif dir=='down':\n",
    "            aim+=cnt\n",
    "        elif dir=='up':\n",
    "            aim-=cnt\n",
    "    print(h*d) "
   ]
  }
 ],
 "metadata": {
  "interpreter": {
   "hash": "2be5faf79681da6f2a61fdfdd5405d65d042280f7fba6178067603e3a2925119"
  },
  "kernelspec": {
   "display_name": "Python 3.10.0 64-bit",
   "language": "python",
   "name": "python3"
  },
  "language_info": {
   "codemirror_mode": {
    "name": "ipython",
    "version": 3
   },
   "file_extension": ".py",
   "mimetype": "text/x-python",
   "name": "python",
   "nbconvert_exporter": "python",
   "pygments_lexer": "ipython3",
   "version": "3.8.8"
  },
  "orig_nbformat": 4
 },
 "nbformat": 4,
 "nbformat_minor": 2
}

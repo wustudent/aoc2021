{
 "cells": [
  {
   "cell_type": "code",
   "execution_count": 11,
   "metadata": {},
   "outputs": [
    {
     "name": "stdout",
     "output_type": "stream",
     "text": [
      "011101001101\n",
      "100010110010\n",
      "4160394\n"
     ]
    }
   ],
   "source": [
    "with open('1.txt') as f:\n",
    "    cnts=[]\n",
    "    for line in f:\n",
    "        line=line.strip()\n",
    "        if len(cnts)==0:\n",
    "            cnts=[[0]*2 for i in range(len(line))]\n",
    "        for ind, c in enumerate(line):\n",
    "            cnts[ind][int(c)]+=1\n",
    "    gamma=''\n",
    "    epsilon=''\n",
    "    for pair in cnts:\n",
    "        if pair[0]>pair[1]:\n",
    "            gamma+='0'\n",
    "            epsilon+='1'\n",
    "        else:\n",
    "            gamma+='1'\n",
    "            epsilon+='0'\n",
    "    print(gamma)\n",
    "    print(epsilon)\n",
    "    power=int(gamma, 2)*int(epsilon, 2)\n",
    "    print(power)\n",
    "        "
   ]
  },
  {
   "cell_type": "code",
   "execution_count": 29,
   "metadata": {},
   "outputs": [
    {
     "name": "stdout",
     "output_type": "stream",
     "text": [
      "011010110111\n",
      "100101100000\n",
      "4125600\n"
     ]
    }
   ],
   "source": [
    "with open('1.txt') as f:\n",
    "    cnts=[]\n",
    "    arr=[]\n",
    "    for line in f:\n",
    "        line=line.strip()\n",
    "        arr.append(line)\n",
    "    oxygen_temp=''\n",
    "    co2_temp=''\n",
    "    ox_arr=arr.copy()\n",
    "    bit_used=1\n",
    "    while len(ox_arr)>1:\n",
    "        judger=0\n",
    "        for code in ox_arr:\n",
    "            if code[bit_used-1]=='1':\n",
    "                judger+=1\n",
    "            else:\n",
    "                judger-=1\n",
    "        if judger>=0:\n",
    "            oxygen_temp+='1'\n",
    "        else:\n",
    "            oxygen_temp+='0'\n",
    "        ox_arr=list(filter(lambda x:x[:bit_used]==oxygen_temp[:bit_used], ox_arr))\n",
    "        bit_used+=1\n",
    "    ox_rating=ox_arr[0]\n",
    "    co2_arr=arr.copy()\n",
    "    bit_used=1\n",
    "    while len(co2_arr)>1:\n",
    "        judger=0\n",
    "        for code in co2_arr:\n",
    "            if code[bit_used-1]=='1':\n",
    "                judger+=1\n",
    "            else:\n",
    "                judger-=1\n",
    "        if judger>=0:\n",
    "            co2_temp+='0'\n",
    "        else:\n",
    "            co2_temp+='1'\n",
    "        co2_arr=list(filter(lambda x:x[:bit_used]==co2_temp[:bit_used], co2_arr))\n",
    "        bit_used+=1\n",
    "    co2_rating=co2_arr[0]\n",
    "    print(ox_rating)\n",
    "    print(co2_rating)\n",
    "    power=int(ox_rating, 2)*int(co2_rating, 2)\n",
    "    print(power)\n",
    "        "
   ]
  }
 ],
 "metadata": {
  "interpreter": {
   "hash": "2be5faf79681da6f2a61fdfdd5405d65d042280f7fba6178067603e3a2925119"
  },
  "kernelspec": {
   "display_name": "Python 3.10.0 64-bit",
   "language": "python",
   "name": "python3"
  },
  "language_info": {
   "codemirror_mode": {
    "name": "ipython",
    "version": 3
   },
   "file_extension": ".py",
   "mimetype": "text/x-python",
   "name": "python",
   "nbconvert_exporter": "python",
   "pygments_lexer": "ipython3",
   "version": "3.8.8"
  },
  "orig_nbformat": 4
 },
 "nbformat": 4,
 "nbformat_minor": 2
}

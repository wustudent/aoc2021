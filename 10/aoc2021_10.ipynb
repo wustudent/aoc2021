{
 "cells": [
  {
   "cell_type": "code",
   "execution_count": 2,
   "metadata": {},
   "outputs": [
    {
     "name": "stdout",
     "output_type": "stream",
     "text": [
      "341823\n"
     ]
    }
   ],
   "source": [
    "def calculate(line): # returns point\n",
    "    dic={')':3, ']':57, '}':1197, '>':25137}\n",
    "    match={')':'(', ']':'[', '}':'{', '>':'<'}\n",
    "    score=0\n",
    "    st=[]\n",
    "    for c in line:\n",
    "        if c not in match:\n",
    "            st.append(c)\n",
    "        else:\n",
    "            last=st.pop()\n",
    "            if last!=match[c]:\n",
    "                score+=dic[c]\n",
    "    return score\n",
    "\n",
    "with open('1.txt') as f:\n",
    "    s=0\n",
    "    for line in f:\n",
    "        arr=list(line.strip())\n",
    "        s+=calculate(arr)\n",
    "    print(s)\n",
    "    "
   ]
  },
  {
   "cell_type": "code",
   "execution_count": 4,
   "metadata": {},
   "outputs": [
    {
     "name": "stdout",
     "output_type": "stream",
     "text": [
      "2801302861\n"
     ]
    }
   ],
   "source": [
    "def calculate2(line):\n",
    "    dic={'(':1, '[':2, '{':3, '<':4}\n",
    "    match={')':'(', ']':'[', '}':'{', '>':'<'}\n",
    "    score=0\n",
    "    st=[]\n",
    "    for c in line:\n",
    "        if c not in match:\n",
    "            st.append(c)\n",
    "        else:\n",
    "            last=st.pop()\n",
    "            if last!=match[c]:\n",
    "                score+=dic[c]\n",
    "    while len(st)!=0:\n",
    "        score*=5\n",
    "        score+=dic[st.pop()]\n",
    "    return score\n",
    "with open('1.txt') as f:\n",
    "    scores=[]\n",
    "    for line in f:\n",
    "        arr=list(line.strip())\n",
    "        if calculate(arr)==0:\n",
    "            scores.append(calculate2(arr))\n",
    "    scores.sort()\n",
    "    mid=len(scores)//2\n",
    "    print(scores[mid])"
   ]
  }
 ],
 "metadata": {
  "interpreter": {
   "hash": "2be5faf79681da6f2a61fdfdd5405d65d042280f7fba6178067603e3a2925119"
  },
  "kernelspec": {
   "display_name": "Python 3.10.0 64-bit",
   "language": "python",
   "name": "python3"
  },
  "language_info": {
   "codemirror_mode": {
    "name": "ipython",
    "version": 3
   },
   "file_extension": ".py",
   "mimetype": "text/x-python",
   "name": "python",
   "nbconvert_exporter": "python",
   "pygments_lexer": "ipython3",
   "version": "3.8.8"
  },
  "orig_nbformat": 4
 },
 "nbformat": 4,
 "nbformat_minor": 2
}

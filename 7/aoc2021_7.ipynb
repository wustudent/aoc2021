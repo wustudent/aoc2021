{
 "cells": [
  {
   "cell_type": "code",
   "execution_count": 6,
   "metadata": {},
   "outputs": [
    {
     "name": "stdout",
     "output_type": "stream",
     "text": [
      "337488\n"
     ]
    }
   ],
   "source": [
    "from collections import Counter\n",
    "with open('1.txt') as f:\n",
    "    line=f.readline()\n",
    "    arr=list(map(int,line.strip().split(',')))\n",
    "    positions=Counter(arr)\n",
    "    result=float('inf')\n",
    "    for chosenPos in positions:\n",
    "        s=0\n",
    "        for pos in positions:\n",
    "            s+=abs(chosenPos-pos)*positions[pos]\n",
    "        if s<result:\n",
    "            result=s\n",
    "print(result)"
   ]
  },
  {
   "cell_type": "code",
   "execution_count": 13,
   "metadata": {},
   "outputs": [
    {
     "name": "stdout",
     "output_type": "stream",
     "text": [
      "89647695\n"
     ]
    }
   ],
   "source": [
    "from functools import lru_cache\n",
    "@lru_cache\n",
    "def getFuelConsume(k):\n",
    "    return (1+k)*k//2\n",
    "\n",
    "from collections import Counter\n",
    "with open('1.txt') as f:\n",
    "    line=f.readline()\n",
    "    arr=list(map(int,line.strip().split(',')))\n",
    "    positions=Counter(arr)\n",
    "    result=float('inf')\n",
    "    for chosenPos in range(max(positions)):\n",
    "        s=0\n",
    "        for pos in positions:\n",
    "            s+=getFuelConsume(abs(chosenPos-pos))*positions[pos]\n",
    "        if s<result:\n",
    "            result=s\n",
    "print(result)"
   ]
  }
 ],
 "metadata": {
  "interpreter": {
   "hash": "2be5faf79681da6f2a61fdfdd5405d65d042280f7fba6178067603e3a2925119"
  },
  "kernelspec": {
   "display_name": "Python 3.10.0 64-bit",
   "language": "python",
   "name": "python3"
  },
  "language_info": {
   "codemirror_mode": {
    "name": "ipython",
    "version": 3
   },
   "file_extension": ".py",
   "mimetype": "text/x-python",
   "name": "python",
   "nbconvert_exporter": "python",
   "pygments_lexer": "ipython3",
   "version": "3.8.8"
  },
  "orig_nbformat": 4
 },
 "nbformat": 4,
 "nbformat_minor": 2
}

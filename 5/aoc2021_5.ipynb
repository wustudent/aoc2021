{
 "cells": [
  {
   "cell_type": "code",
   "execution_count": 2,
   "metadata": {},
   "outputs": [
    {
     "name": "stdout",
     "output_type": "stream",
     "text": [
      "7380\n"
     ]
    }
   ],
   "source": [
    "with open('1.txt') as f:\n",
    "    arr=[]\n",
    "    dic={}\n",
    "    for line in f:\n",
    "        start,end=line.strip().split(' -> ')\n",
    "        x1,y1=list(map(int,start.split(',')))\n",
    "        x2,y2=list(map(int,end.split(',')))\n",
    "        xyflag=0\n",
    "        if x1!=x2 and y1!=y2:\n",
    "            continue\n",
    "        if x1==x2:\n",
    "            xyflag=0\n",
    "            if y1<y2:\n",
    "                istart=y1\n",
    "                iend=y2+1\n",
    "            else:\n",
    "                istart=y2\n",
    "                iend=y1+1\n",
    "        if y1==y2:\n",
    "            xyflag=1\n",
    "            if x1<x2:\n",
    "                istart=x1\n",
    "                iend=x2+1\n",
    "            else:\n",
    "                istart=x2\n",
    "                iend=x1+1\n",
    "        for i in range(istart,iend):\n",
    "            if xyflag==0:\n",
    "                key='{},{}'.format(x1,i)\n",
    "            else:\n",
    "                key='{},{}'.format(i,y1)\n",
    "            if key not in dic:\n",
    "                dic[key]=1\n",
    "            else:\n",
    "                dic[key]+=1\n",
    "    ans=0\n",
    "    for key in dic:\n",
    "        if dic[key]>=2:\n",
    "            ans+=1\n",
    "    print(ans)"
   ]
  },
  {
   "cell_type": "code",
   "execution_count": 12,
   "metadata": {},
   "outputs": [
    {
     "name": "stdout",
     "output_type": "stream",
     "text": [
      "21373\n"
     ]
    }
   ],
   "source": [
    "with open('1.txt') as f:\n",
    "    arr=[]\n",
    "    dic={}\n",
    "    for line in f:\n",
    "        start,end=line.strip().split(' -> ')\n",
    "        x1,y1=list(map(int,start.split(',')))\n",
    "        x2,y2=list(map(int,end.split(',')))\n",
    "        xyflag=0\n",
    "        if x1!=x2 and y1!=y2 and not(abs(x1-x2)==abs(y1-y2)):\n",
    "            continue\n",
    "        if x1==x2 or y1==y2: #vertical or horizontal\n",
    "            if x1==x2:\n",
    "                xyflag=0\n",
    "                if y1<y2:\n",
    "                    istart=y1\n",
    "                    iend=y2+1\n",
    "                else:\n",
    "                    istart=y2\n",
    "                    iend=y1+1\n",
    "            if y1==y2:\n",
    "                xyflag=1\n",
    "                if x1<x2:\n",
    "                    istart=x1\n",
    "                    iend=x2+1\n",
    "                else:\n",
    "                    istart=x2\n",
    "                    iend=x1+1\n",
    "            for i in range(istart,iend):\n",
    "                if xyflag==0:\n",
    "                    key='{},{}'.format(x1,i)\n",
    "                else:\n",
    "                    key='{},{}'.format(i,y1)\n",
    "                if key not in dic:\n",
    "                    dic[key]=1\n",
    "                else:\n",
    "                    dic[key]+=1\n",
    "        else: #diagonal, abs(x1-x2)==abs(y1-y2)\n",
    "            if x1<x2:\n",
    "                deltax=1\n",
    "            else:\n",
    "                deltax=-1\n",
    "            if y1<y2:\n",
    "                deltay=1\n",
    "            else:\n",
    "                deltay=-1\n",
    "            for i in range(abs(x1-x2)+1):\n",
    "                key='{},{}'.format(x1+deltax*i, y1+deltay*i)\n",
    "                # print(key)\n",
    "                if key not in dic:\n",
    "                    dic[key]=1\n",
    "                else:\n",
    "                    dic[key]+=1\n",
    "    ans=0\n",
    "    for key in dic:\n",
    "        if dic[key]>=2:\n",
    "            ans+=1\n",
    "    print(ans)"
   ]
  }
 ],
 "metadata": {
  "interpreter": {
   "hash": "2be5faf79681da6f2a61fdfdd5405d65d042280f7fba6178067603e3a2925119"
  },
  "kernelspec": {
   "display_name": "Python 3.10.0 64-bit",
   "language": "python",
   "name": "python3"
  },
  "language_info": {
   "codemirror_mode": {
    "name": "ipython",
    "version": 3
   },
   "file_extension": ".py",
   "mimetype": "text/x-python",
   "name": "python",
   "nbconvert_exporter": "python",
   "pygments_lexer": "ipython3",
   "version": "3.8.8"
  },
  "orig_nbformat": 4
 },
 "nbformat": 4,
 "nbformat_minor": 2
}

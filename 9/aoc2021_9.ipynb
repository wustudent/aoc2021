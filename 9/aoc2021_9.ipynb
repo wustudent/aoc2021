{
 "cells": [
  {
   "cell_type": "code",
   "execution_count": 1,
   "metadata": {},
   "outputs": [
    {
     "name": "stdout",
     "output_type": "stream",
     "text": [
      "537\n"
     ]
    }
   ],
   "source": [
    "with open('1.txt') as f:\n",
    "    board=[]\n",
    "    for line in f:\n",
    "        board.append(list(map(int,list(line.strip()))))\n",
    "    deltas=[[-1,0],[1,0],[0,1],[0,-1]]\n",
    "    s=0\n",
    "    for i in range(len(board)):\n",
    "        for j in range(len(board[0])):\n",
    "            isLowest=True\n",
    "            for deltaI,deltaJ in deltas:\n",
    "                if 0<=i+deltaI<=len(board)-1 and 0<=j+deltaJ<=len(board[0])-1:\n",
    "                    if board[i][j]>=board[i+deltaI][j+deltaJ]:\n",
    "                        isLowest=False\n",
    "                        break\n",
    "            if isLowest:\n",
    "                s+=board[i][j]+1\n",
    "    print(s)\n"
   ]
  },
  {
   "cell_type": "code",
   "execution_count": 8,
   "metadata": {},
   "outputs": [
    {
     "name": "stdout",
     "output_type": "stream",
     "text": [
      "1142757\n"
     ]
    }
   ],
   "source": [
    "def bfs(board,i,j):\n",
    "    deltas=[[-1,0],[1,0],[0,1],[0,-1]]\n",
    "    if 0<=i<=len(board)-1 and 0<=j<=len(board[0])-1:\n",
    "        count=0\n",
    "        lst=[[i,j]]\n",
    "        while len(lst)!=0:\n",
    "            curI, curJ=lst.pop(0)\n",
    "            # print(curI, curJ)\n",
    "            if board[curI][curJ]==9: #if visited, pass\n",
    "                continue\n",
    "            count+=1\n",
    "            for deltaI, deltaJ in deltas:\n",
    "                if 0<=curI+deltaI<=len(board)-1 and 0<=curJ+deltaJ<=len(board[0])-1:\n",
    "                    if board[curI][curJ]<board[curI+deltaI][curJ+deltaJ] and board[curI+deltaI][curJ+deltaJ]!=9:\n",
    "                        lst.append([curI+deltaI,curJ+deltaJ])\n",
    "            board[curI][curJ]=9 #make sure you don't visit the node again \n",
    "        return count\n",
    "    else:\n",
    "        return 0\n",
    "\n",
    "with open('1.txt') as f:\n",
    "    board=[]\n",
    "    for line in f:\n",
    "        board.append(list(map(int,list(line.strip()))))\n",
    "    deltas=[[-1,0],[1,0],[0,1],[0,-1]]\n",
    "    basins=[]\n",
    "    for i in range(len(board)):\n",
    "        for j in range(len(board[0])):\n",
    "            isLowest=True\n",
    "            for deltaI,deltaJ in deltas:\n",
    "                if 0<=i+deltaI<=len(board)-1 and 0<=j+deltaJ<=len(board[0])-1:\n",
    "                    if board[i][j]>=board[i+deltaI][j+deltaJ]:\n",
    "                        isLowest=False\n",
    "                        break\n",
    "            if isLowest:\n",
    "                # print(\"=\")\n",
    "                basins.append(bfs(board,i,j))\n",
    "    basins.sort()\n",
    "    # print(basins)\n",
    "    from functools import reduce\n",
    "    print(reduce(lambda x,y:x*y, basins[-3:]))\n"
   ]
  }
 ],
 "metadata": {
  "interpreter": {
   "hash": "2be5faf79681da6f2a61fdfdd5405d65d042280f7fba6178067603e3a2925119"
  },
  "kernelspec": {
   "display_name": "Python 3.10.0 64-bit",
   "language": "python",
   "name": "python3"
  },
  "language_info": {
   "codemirror_mode": {
    "name": "ipython",
    "version": 3
   },
   "file_extension": ".py",
   "mimetype": "text/x-python",
   "name": "python",
   "nbconvert_exporter": "python",
   "pygments_lexer": "ipython3",
   "version": "3.8.8"
  },
  "orig_nbformat": 4
 },
 "nbformat": 4,
 "nbformat_minor": 2
}

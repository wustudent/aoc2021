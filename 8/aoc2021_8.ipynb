{
 "cells": [
  {
   "cell_type": "code",
   "execution_count": 2,
   "metadata": {},
   "outputs": [
    {
     "name": "stdout",
     "output_type": "stream",
     "text": [
      "288\n"
     ]
    }
   ],
   "source": [
    "with open('1.txt') as f:\n",
    "    patterns=[]\n",
    "    outputs=[]\n",
    "    for line in f:\n",
    "        patternStr,outputStr=line.split('|')\n",
    "        patterns.append(patternStr.split())\n",
    "        outputs.append(outputStr.split())\n",
    "    count=0\n",
    "    for output in outputs:\n",
    "        count+=len(list(filter(lambda x:len(x) in [2,3,4,7],output)))\n",
    "    print(count)\n",
    "    "
   ]
  },
  {
   "cell_type": "code",
   "execution_count": 13,
   "metadata": {},
   "outputs": [
    {
     "name": "stdout",
     "output_type": "stream",
     "text": [
      "940724\n"
     ]
    }
   ],
   "source": [
    "# 0,6,9 all have 6 segments\n",
    "# 6 doesn't have both segments from 1\n",
    "# 0 doesn't have all 4 segments from 4\n",
    "\n",
    "# 2,3,5 all have 5 segments\n",
    "# 3 contains all 3 segments from 7\n",
    "# 5 contains 2 segments in 4 differs from 1\n",
    "\n",
    "with open('1.txt') as f:\n",
    "    patterns=[]\n",
    "    outputs=[]\n",
    "    decoded=[]\n",
    "    for line in f:\n",
    "        patternStr,outputStr=line.split('|')\n",
    "        p=list(patternStr.split())\n",
    "        p=list(map(lambda x:''.join(sorted(list(x))),p))\n",
    "        patterns.append(p)\n",
    "        o=list(outputStr.split())\n",
    "        o=list(map(lambda x:''.join(sorted(list(x))),o))\n",
    "        outputs.append(o)\n",
    "        dic={}\n",
    "        numberDic={}\n",
    "        for pattern in p:\n",
    "            if len(pattern)==2:\n",
    "                dic['1']=pattern\n",
    "                numberDic[pattern]=1\n",
    "            elif len(pattern)==3:\n",
    "                dic['7']=pattern\n",
    "                numberDic[pattern]=7\n",
    "            elif len(pattern)==4:\n",
    "                dic['4']=pattern\n",
    "                numberDic[pattern]=4\n",
    "            elif len(pattern)==7:\n",
    "                numberDic[pattern]=8\n",
    "        for pattern in p:\n",
    "            if len(pattern)==5:\n",
    "                if len([1 for c in pattern if c in dic['7']])==3:\n",
    "                    dic['3']=pattern\n",
    "                    numberDic[pattern]=3\n",
    "                elif len([1 for c in pattern if c in dic['4'] and c not in dic['1']])==2:\n",
    "                    dic['5']=pattern\n",
    "                    numberDic[pattern]=5\n",
    "                else:\n",
    "                    dic['2']=pattern\n",
    "                    numberDic[pattern]=2\n",
    "            elif len(pattern)==6:\n",
    "                if len([1 for c in pattern if c in dic['1']])==1:\n",
    "                    dic['6']=pattern\n",
    "                    numberDic[pattern]=6\n",
    "                elif len([1 for c in pattern if c in dic['4']])!=4:\n",
    "                    dic['0']=pattern\n",
    "                    numberDic[pattern]=0\n",
    "                else:\n",
    "                    dic['9']=pattern\n",
    "                    numberDic[pattern]=9\n",
    "        num=0\n",
    "        for output in o:\n",
    "            num*=10\n",
    "            num+=numberDic[output]\n",
    "        decoded.append(num)\n",
    "    print(sum(decoded))\n"
   ]
  }
 ],
 "metadata": {
  "interpreter": {
   "hash": "2be5faf79681da6f2a61fdfdd5405d65d042280f7fba6178067603e3a2925119"
  },
  "kernelspec": {
   "display_name": "Python 3.10.0 64-bit",
   "language": "python",
   "name": "python3"
  },
  "language_info": {
   "codemirror_mode": {
    "name": "ipython",
    "version": 3
   },
   "file_extension": ".py",
   "mimetype": "text/x-python",
   "name": "python",
   "nbconvert_exporter": "python",
   "pygments_lexer": "ipython3",
   "version": "3.8.8"
  },
  "orig_nbformat": 4
 },
 "nbformat": 4,
 "nbformat_minor": 2
}

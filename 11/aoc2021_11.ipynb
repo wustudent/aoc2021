{
 "cells": [
  {
   "cell_type": "code",
   "execution_count": 33,
   "metadata": {},
   "outputs": [
    {
     "name": "stdout",
     "output_type": "stream",
     "text": [
      "1683\n"
     ]
    }
   ],
   "source": [
    "import copy\n",
    "def increaseAdjacents(board,i,j,flashed):\n",
    "    if board[i][j]>9 and flashed[i][j]==False:\n",
    "        flashed[i][j]=True\n",
    "        for deltaI in range(-1,2):\n",
    "            for deltaJ in range(-1,2):\n",
    "                if i+deltaI<0 or i+deltaI>=len(board):\n",
    "                    continue\n",
    "                if j+deltaJ<0 or j+deltaJ>=len(board[0]):\n",
    "                    continue\n",
    "                if deltaI==0 and deltaJ==0:\n",
    "                    continue\n",
    "                board[i+deltaI][j+deltaJ]+=1\n",
    "                if board[i+deltaI][j+deltaJ]>9 and flashed[i+deltaI][j+deltaJ]==False:\n",
    "                    increaseAdjacents(board,i+deltaI,j+deltaJ,flashed)\n",
    "            \n",
    "with open('1.txt') as f:\n",
    "    board=[]\n",
    "    for line in f:\n",
    "        board.append(list(map(int,list(line.strip()))))\n",
    "    # print(board)\n",
    "    total=0\n",
    "    for step in range(100):\n",
    "        # print(\"=\"*15)\n",
    "        flashed=[[False]*len(board[0]) for i in range(len(board))]\n",
    "        for i in range(len(board)):\n",
    "            for j in range(len(board[0])):\n",
    "                board[i][j]+=1\n",
    "        # print(board)\n",
    "        for i in range(len(board)):\n",
    "            for j in range(len(board[0])):\n",
    "                    increaseAdjacents(board,i,j,flashed)\n",
    "        # print(board)\n",
    "        for i in range(len(board)):\n",
    "            for j in range(len(board[0])):\n",
    "                if flashed[i][j]==True:\n",
    "                    total+=1\n",
    "                    board[i][j]=0\n",
    "        # print(board)\n",
    "\n",
    "    print(total)"
   ]
  },
  {
   "cell_type": "code",
   "execution_count": 36,
   "metadata": {},
   "outputs": [
    {
     "name": "stdout",
     "output_type": "stream",
     "text": [
      "788\n"
     ]
    }
   ],
   "source": [
    "with open('1.txt') as f:\n",
    "    board=[]\n",
    "    for line in f:\n",
    "        board.append(list(map(int,list(line.strip()))))\n",
    "    # print(board)\n",
    "    step=0\n",
    "    while True:\n",
    "        step+=1\n",
    "        # print(\"=\"*15)\n",
    "        flashed=[[False]*len(board[0]) for i in range(len(board))]\n",
    "        for i in range(len(board)):\n",
    "            for j in range(len(board[0])):\n",
    "                board[i][j]+=1\n",
    "        # print(board)\n",
    "        for i in range(len(board)):\n",
    "            for j in range(len(board[0])):\n",
    "                    increaseAdjacents(board,i,j,flashed)\n",
    "        # print(board)\n",
    "        s=0\n",
    "        for i in range(len(board)):\n",
    "            for j in range(len(board[0])):\n",
    "                if flashed[i][j]==True:\n",
    "                    board[i][j]=0\n",
    "                s+=board[i][j]\n",
    "        if s==0:\n",
    "            break\n",
    "    print(step)"
   ]
  }
 ],
 "metadata": {
  "interpreter": {
   "hash": "2be5faf79681da6f2a61fdfdd5405d65d042280f7fba6178067603e3a2925119"
  },
  "kernelspec": {
   "display_name": "Python 3.10.0 64-bit",
   "language": "python",
   "name": "python3"
  },
  "language_info": {
   "codemirror_mode": {
    "name": "ipython",
    "version": 3
   },
   "file_extension": ".py",
   "mimetype": "text/x-python",
   "name": "python",
   "nbconvert_exporter": "python",
   "pygments_lexer": "ipython3",
   "version": "3.8.8"
  },
  "orig_nbformat": 4
 },
 "nbformat": 4,
 "nbformat_minor": 2
}

{
 "cells": [
  {
   "cell_type": "code",
   "execution_count": 2,
   "metadata": {},
   "outputs": [
    {
     "name": "stdout",
     "output_type": "stream",
     "text": [
      "1215\n"
     ]
    }
   ],
   "source": [
    "with open('1.txt') as f:\n",
    "    arr=[]\n",
    "    for lines in f:\n",
    "        arr.append(int(lines.strip()))\n",
    "    res=0 \n",
    "    for i in range(1,len(arr)):\n",
    "        if arr[i]>arr[i-1]:\n",
    "            res+=1\n",
    "    print(res) \n",
    "        "
   ]
  },
  {
   "cell_type": "code",
   "execution_count": 4,
   "metadata": {},
   "outputs": [
    {
     "name": "stdout",
     "output_type": "stream",
     "text": [
      "1150\n"
     ]
    }
   ],
   "source": [
    "with open('1.txt') as f:\n",
    "    arr=[]\n",
    "    for lines in f:\n",
    "        arr.append(int(lines.strip()))\n",
    "    res=0 \n",
    "    for i in range(2,len(arr)-1):\n",
    "        if sum(arr[i-1:i+2])>sum(arr[i-2:i+1]):\n",
    "            res+=1\n",
    "    print(res) \n",
    "        "
   ]
  }
 ],
 "metadata": {
  "interpreter": {
   "hash": "2be5faf79681da6f2a61fdfdd5405d65d042280f7fba6178067603e3a2925119"
  },
  "kernelspec": {
   "display_name": "Python 3.10.0 64-bit",
   "language": "python",
   "name": "python3"
  },
  "language_info": {
   "codemirror_mode": {
    "name": "ipython",
    "version": 3
   },
   "file_extension": ".py",
   "mimetype": "text/x-python",
   "name": "python",
   "nbconvert_exporter": "python",
   "pygments_lexer": "ipython3",
   "version": "3.8.8"
  },
  "orig_nbformat": 4
 },
 "nbformat": 4,
 "nbformat_minor": 2
}

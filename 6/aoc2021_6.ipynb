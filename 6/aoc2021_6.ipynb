{
 "cells": [
  {
   "cell_type": "code",
   "execution_count": 8,
   "metadata": {},
   "outputs": [
    {
     "name": "stdout",
     "output_type": "stream",
     "text": [
      "5934\n"
     ]
    }
   ],
   "source": [
    "with open('test.txt') as f:\n",
    "    line=f.readline()\n",
    "    arr=list(map(int,line.strip().split(',')))\n",
    "    for day in range(80):\n",
    "        countZero=0\n",
    "        for i in range(len(arr)):\n",
    "            if arr[i]==0:\n",
    "                arr[i]=6\n",
    "                countZero+=1\n",
    "            else:\n",
    "                arr[i]-=1\n",
    "        arr=arr+[8]*countZero\n",
    "    print(len(arr))"
   ]
  },
  {
   "cell_type": "code",
   "execution_count": 10,
   "metadata": {},
   "outputs": [
    {
     "name": "stdout",
     "output_type": "stream",
     "text": [
      "1609314870967\n"
     ]
    }
   ],
   "source": [
    "with open('1.txt') as f:\n",
    "    line=f.readline()\n",
    "    arr=list(map(int,line.strip().split(',')))\n",
    "    hashMap=[0]*9 #[0-8]\n",
    "    for fish in arr:\n",
    "        hashMap[fish]+=1\n",
    "    \n",
    "    for day in range(256):\n",
    "        countZero=hashMap[0]\n",
    "        hashMap=hashMap[1:]+[countZero]\n",
    "        hashMap[6]+=countZero\n",
    "    print(sum(hashMap))"
   ]
  }
 ],
 "metadata": {
  "interpreter": {
   "hash": "2be5faf79681da6f2a61fdfdd5405d65d042280f7fba6178067603e3a2925119"
  },
  "kernelspec": {
   "display_name": "Python 3.10.0 64-bit",
   "language": "python",
   "name": "python3"
  },
  "language_info": {
   "codemirror_mode": {
    "name": "ipython",
    "version": 3
   },
   "file_extension": ".py",
   "mimetype": "text/x-python",
   "name": "python",
   "nbconvert_exporter": "python",
   "pygments_lexer": "ipython3",
   "version": "3.8.8"
  },
  "orig_nbformat": 4
 },
 "nbformat": 4,
 "nbformat_minor": 2
}
